{
 "cells": [
  {
   "cell_type": "markdown",
   "id": "f3b4e062",
   "metadata": {},
   "source": [
    "# Variables Visualization\n",
    "\n",
    "Date: 09/01/2022"
   ]
  },
  {
   "cell_type": "code",
   "execution_count": null,
   "id": "166a44bb",
   "metadata": {},
   "outputs": [],
   "source": [
    "import os\n",
    "import pandas as pd\n",
    "import numpy as np\n",
    "import matplotlib\n",
    "import matplotlib.pyplot as plt\n",
    "\n",
    "# Map\n",
    "from urllib.request import urlopen\n",
    "import json\n",
    "import plotly.express as px\n",
    "import kaleido"
   ]
  },
  {
   "cell_type": "markdown",
   "id": "e4f3d69f",
   "metadata": {},
   "source": [
    "### 1. Read in weather data by county"
   ]
  },
  {
   "cell_type": "code",
   "execution_count": null,
   "id": "f493c21a",
   "metadata": {},
   "outputs": [],
   "source": [
    "cwd = os.path.dirname(os.getcwd())\n",
    "\n",
    "# Corn weather data.\n",
    "filename = 'Data_original\\\\corn_weather.csv'\n",
    "location = os.path.join(cwd, filename)\n",
    "weather_df_corn = pd.read_csv(location, header=0)\n",
    "\n",
    "#Clean the weather data.\n",
    "weather_df_corn.drop(columns=['Unnamed: 0'], inplace=True)\n",
    "weather_df_corn['fips'] = weather_df_corn.countyfp + weather_df_corn.statefp*1000\n",
    "weather_df_corn['fips'] = ['{0:05}'.format(int(x)) for x in weather_df_corn.fips]\n",
    "weather_df_corn.drop(columns=['countyfp', 'statefp'], inplace=True)"
   ]
  },
  {
   "cell_type": "code",
   "execution_count": null,
   "id": "2b0b7b91",
   "metadata": {},
   "outputs": [],
   "source": [
    "weather_df_corn.year.unique()"
   ]
  },
  {
   "cell_type": "markdown",
   "id": "d06ea7ea",
   "metadata": {},
   "source": [
    "### 2. Weather variable map"
   ]
  },
  {
   "cell_type": "code",
   "execution_count": null,
   "id": "fc9a0ac3",
   "metadata": {},
   "outputs": [],
   "source": [
    "# Load a county basemap.\n",
    "with urlopen('https://raw.githubusercontent.com/plotly/datasets/master/geojson-counties-fips.json') as response:\n",
    "    counties = json.load(response)"
   ]
  },
  {
   "cell_type": "code",
   "execution_count": null,
   "id": "fb1a4c53",
   "metadata": {},
   "outputs": [],
   "source": [
    "# Prepare data to get a twenty-year average of the weather variables.\n",
    "avg_weather = weather_df_corn.groupby(['fips']).mean()\n",
    "avg_weather.reset_index(inplace=True)"
   ]
  },
  {
   "cell_type": "code",
   "execution_count": null,
   "id": "8347e7f4",
   "metadata": {},
   "outputs": [],
   "source": [
    "# Visualize the data on map.\n",
    "fig1 = px.choropleth(avg_weather, geojson=counties, locations='fips', color='prcp',\n",
    "                     range_color=(avg_weather.prcp.min(), avg_weather.prcp.max()),\n",
    "                     scope='usa',\n",
    "                     labels={'prcp':'Prcp (mm)'}\n",
    "                     )\n",
    "fig1.update_layout(margin={\"r\":0,\"t\":0,\"l\":0,\"b\":0})\n",
    "fig1.update_layout(font=dict(size=20, color='black'))\n",
    "filename = 'figures\\\\prcp.png'\n",
    "location = os.path.join(cwd, filename)\n",
    "fig1.write_image(location)\n",
    "fig1.show()"
   ]
  },
  {
   "cell_type": "code",
   "execution_count": null,
   "id": "53c8b61e",
   "metadata": {},
   "outputs": [],
   "source": [
    "fig2 = px.choropleth(avg_weather, geojson=counties, locations='fips', color='gdd',\n",
    "                     range_color=(avg_weather.gdd.min(), avg_weather.gdd.max()),\n",
    "                     scope='usa',\n",
    "                     labels={'gdd':'GDD (°C)'}\n",
    "                     )\n",
    "fig2.update_layout(margin={\"r\":0,\"t\":0,\"l\":0,\"b\":0})\n",
    "fig2.update_layout(font=dict(size=20, color='black'))\n",
    "filename = 'figures\\\\GDD.png'\n",
    "location = os.path.join(cwd, filename)\n",
    "fig2.write_image(location)\n",
    "fig2.show()"
   ]
  },
  {
   "cell_type": "code",
   "execution_count": null,
   "id": "597b593d",
   "metadata": {},
   "outputs": [],
   "source": [
    "fig3 = px.choropleth(avg_weather, geojson=counties, locations='fips', color='edd',\n",
    "                     range_color=(avg_weather.edd.min(), avg_weather.edd.max()),\n",
    "                     scope=\"usa\",\n",
    "                     labels={'edd':'EDD (°C)'}\n",
    "                     )\n",
    "fig3.update_layout(margin={\"r\":0,\"t\":0,\"l\":0,\"b\":0})\n",
    "fig3.update_layout(font=dict(size=20, color='black'))\n",
    "filename = 'figures\\\\EDD.png'\n",
    "location = os.path.join(cwd, filename)\n",
    "fig3.write_image(location)\n",
    "fig3.show()"
   ]
  }
 ],
 "metadata": {
  "kernelspec": {
   "display_name": "Python 3 (ipykernel)",
   "language": "python",
   "name": "python3"
  },
  "language_info": {
   "codemirror_mode": {
    "name": "ipython",
    "version": 3
   },
   "file_extension": ".py",
   "mimetype": "text/x-python",
   "name": "python",
   "nbconvert_exporter": "python",
   "pygments_lexer": "ipython3",
   "version": "3.9.7"
  }
 },
 "nbformat": 4,
 "nbformat_minor": 5
}
