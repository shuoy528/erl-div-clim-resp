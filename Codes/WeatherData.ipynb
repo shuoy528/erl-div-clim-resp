{
 "cells": [
  {
   "cell_type": "markdown",
   "id": "b1a7d8aa",
   "metadata": {},
   "source": [
    "# Clean Up Weather Data Downloaded from GEE\n",
    "\n",
    "Date: 09/01/2022"
   ]
  },
  {
   "cell_type": "markdown",
   "id": "f119b2e8",
   "metadata": {},
   "source": [
    "Note: Please install our open-source package, py4openag, \n",
    "with code `!pip install py4openag` before importing the packages. \n",
    "This package aims to establish the ML4Ops pipeline from \n",
    "public databases to integrated analytics for agriculture. \n",
    "It provides a variety of functions to study climate trends \n",
    "and simplify the calculation of commonly used metrics in \n",
    "agriculture, such as growing degree days, extreme heat degree \n",
    "days, the base temperature for different crop types, as well \n",
    "as basic climate metrics like average temperature and total \n",
    "precipitation for user specified time periods. The package \n",
    "also includes unsupervised and supervised learning based on \n",
    "these metrics."
   ]
  },
  {
   "cell_type": "code",
   "execution_count": null,
   "id": "a479e641",
   "metadata": {},
   "outputs": [],
   "source": [
    "import os\n",
    "import pandas as pd\n",
    "import numpy as np\n",
    "from datetime import datetime as dt\n",
    "import py4openag\n",
    "from py4openag import functions"
   ]
  },
  {
   "cell_type": "code",
   "execution_count": null,
   "id": "343dd9a7",
   "metadata": {},
   "outputs": [],
   "source": [
    "mylist = []\n",
    "threshold_gdd = 281.15 # 8 degree celsius to kelvin\n",
    "threshold_edd = 303.15 # 30 degree celsius to kelvin\n",
    "\n",
    "for y in range(2001, 2021):\n",
    "    print(y)\n",
    "    cwd = os.path.dirname(os.getcwd())\n",
    "    filename = 'Data_original\\\\weather'+ str(y) + '_corn.csv'\n",
    "    location = os.path.join(cwd, filename)\n",
    "    df = pd.read_csv(location, header=0)\n",
    "    df.drop(columns=['system:index', 'COUNTYNS', 'AFFGEOID', \n",
    "                     'ALAND', 'AWATER', 'GEOID', \n",
    "                     'LSAD', 'dewpoint_2m_temperature', \n",
    "                     'mean_sea_level_pressure', \n",
    "                     'surface_pressure', 'u_component_of_wind_10m', \n",
    "                     'v_component_of_wind_10m', '.geo'], \n",
    "            inplace=True)\n",
    "    df.dropna(thresh=5, inplace=True)\n",
    "    df.dropna(subset=['Date'], inplace=True)\n",
    "    df.reset_index(drop=True, inplace=True)\n",
    "    df['Date'] = [dt.utcfromtimestamp(x/1000) for x in df['Date']]\n",
    "\n",
    "    grouping = df.groupby(['STATEFP', 'COUNTYFP'])\n",
    "\n",
    "    for i in grouping:\n",
    "\n",
    "        df = i[1]\n",
    "        index = i[0]\n",
    "        agfunctions=functions(df)\n",
    "        d = {}\n",
    "        d['year'] = y\n",
    "        d['countyfp'] = index[1]\n",
    "        d['statefp'] = index[0]\n",
    "        d['prcp'] = agfunctions.total_precipitation(df, y)\n",
    "        d['gdd'] = agfunctions.growing_degree_days(df, \n",
    "                                                   y, threshold_gdd)\n",
    "        d['edd'] = agfunctions.extreme_degree_days(df, \n",
    "                                                   threshold_edd, \n",
    "                                                   y, [1,12])\n",
    "        mylist.append(d)"
   ]
  },
  {
   "cell_type": "code",
   "execution_count": null,
   "id": "42bea9d0",
   "metadata": {},
   "outputs": [],
   "source": [
    "output_df = pd.DataFrame(mylist)\n",
    "filename = 'Data_original\\\\corn_weather.csv'\n",
    "location = os.path.join(cwd, filename)\n",
    "output_df.to_csv(location)"
   ]
  },
  {
   "cell_type": "code",
   "execution_count": null,
   "id": "118b5a49",
   "metadata": {},
   "outputs": [],
   "source": [
    "output_df.corr()"
   ]
  },
  {
   "cell_type": "code",
   "execution_count": null,
   "id": "0e585aa4",
   "metadata": {},
   "outputs": [],
   "source": [
    "from scipy.stats import pearsonr\n",
    "import numpy as np\n",
    "rho = output_df.corr()\n",
    "pval = output_df.corr(method=lambda x, y: pearsonr(x, y)[1]) - np.eye(*rho.shape)\n",
    "p = pval.applymap(lambda x: ''.join(['*' for t in [.05, .01, .001] if x<=t]))\n",
    "rho.round(2).astype(str) + p"
   ]
  },
  {
   "cell_type": "code",
   "execution_count": null,
   "id": "bfa0f911",
   "metadata": {},
   "outputs": [],
   "source": []
  }
 ],
 "metadata": {
  "kernelspec": {
   "display_name": "Python 3 (ipykernel)",
   "language": "python",
   "name": "python3"
  },
  "language_info": {
   "codemirror_mode": {
    "name": "ipython",
    "version": 3
   },
   "file_extension": ".py",
   "mimetype": "text/x-python",
   "name": "python",
   "nbconvert_exporter": "python",
   "pygments_lexer": "ipython3",
   "version": "3.9.7"
  }
 },
 "nbformat": 4,
 "nbformat_minor": 5
}
