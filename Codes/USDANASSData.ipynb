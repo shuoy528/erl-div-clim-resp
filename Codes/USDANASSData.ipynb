{
 "cells": [
  {
   "cell_type": "markdown",
   "metadata": {},
   "source": [
    "# Download Yield Data from USDA NASS\n",
    "\n",
    "Date: 09/01/2022"
   ]
  },
  {
   "cell_type": "markdown",
   "metadata": {},
   "source": [
    "Note: Please install NASS data api, nass, \n",
    "with code `!pip install nass` before importing the packages\n",
    "if you haven't yet.\n",
    "\n",
    "Please request an api key at https://quickstats.nass.usda.gov/api/ and insert in the first line of the function `get_data_USDA` below."
   ]
  },
  {
   "cell_type": "code",
   "execution_count": null,
   "metadata": {},
   "outputs": [],
   "source": [
    "import pandas as pd\n",
    "import nass\n",
    "import os"
   ]
  },
  {
   "cell_type": "markdown",
   "metadata": {},
   "source": [
    "### Download available corn yield data for all counties from 2000 to 2020"
   ]
  },
  {
   "cell_type": "code",
   "execution_count": null,
   "metadata": {},
   "outputs": [],
   "source": [
    "# Import cencus data for county ID.\n",
    "cwd = os.path.dirname(os.getcwd())\n",
    "filename = 'Data_original\\\\All_counties.xlsx'\n",
    "location = os.path.join(cwd, filename)\n",
    "All_counties_df = pd.read_excel(location, engine='openpyxl', header=0)"
   ]
  },
  {
   "cell_type": "code",
   "execution_count": null,
   "metadata": {},
   "outputs": [],
   "source": [
    "# Clean the county dataset\n",
    "All_counties_df.Areaname = All_counties_df.Areaname.astype(str)\n",
    "All_counties_df['county_name'] = [x[:-4].upper() \n",
    "                                  for x in All_counties_df['Areaname']]\n",
    "All_counties_df['state_abr'] = [x[-2:].upper() \n",
    "                                for x in All_counties_df['Areaname']]\n",
    "All_counties_df['state_code'] = ['{0:02}'.format(x//1000) \n",
    "                                 for x in All_counties_df['STCOU']]\n",
    "All_counties_df['county_code'] = ['{0:03}'.format(x - 1000*(x//1000)) \n",
    "                                  for x in All_counties_df['STCOU']]\n",
    "All_counties_df = All_counties_df[All_counties_df['county_code']!='000']\n",
    "All_counties_df.county_code = All_counties_df.county_code.astype(str)\n",
    "All_counties_df.state_code = All_counties_df.state_code.astype(str)\n",
    "All_counties_df.reset_index(drop=True, inplace=True)"
   ]
  },
  {
   "cell_type": "code",
   "execution_count": null,
   "metadata": {},
   "outputs": [],
   "source": [
    "def get_data_USDA(category):\n",
    "    # Please request an api key at https://quickstats.nass.usda.gov/api/.\n",
    "    # Please input your api key here.\n",
    "    api = nass.NassApi()# Please input your API here.\n",
    "    count = 0\n",
    "    for i in range(len(All_counties_df)):\n",
    "        state_code = All_counties_df.loc[i, 'state_code']\n",
    "        county_code = All_counties_df.loc[i, 'county_code']\n",
    "        q = api.query()\n",
    "        q.filter('state_fips_code', state_code)\n",
    "        q.filter('county_code', county_code)\n",
    "        q.filter('short_desc', category)\n",
    "        try:\n",
    "            df = pd.DataFrame(q.execute())\n",
    "            if count == 0:\n",
    "                output_df = df\n",
    "            else:\n",
    "                output_df = pd.concat([output_df, df], ignore_index=True)\n",
    "            count += 1\n",
    "        except Exception:\n",
    "            print(All_counties_df.loc[i, 'Areaname'])\n",
    "            pass\n",
    "    \n",
    "    return output_df"
   ]
  },
  {
   "cell_type": "code",
   "execution_count": null,
   "metadata": {},
   "outputs": [],
   "source": [
    "corn_yield_data = get_data_USDA('CORN, GRAIN - YIELD, MEASURED IN BU / ACRE')"
   ]
  },
  {
   "cell_type": "code",
   "execution_count": null,
   "metadata": {},
   "outputs": [],
   "source": [
    "filename = 'Data_original\\\\corn_yield_data.csv'\n",
    "location = os.path.join(cwd, filename)\n",
    "corn_yield_data.to_csv(location)"
   ]
  }
 ],
 "metadata": {
  "kernelspec": {
   "display_name": "Python 3 (ipykernel)",
   "language": "python",
   "name": "python3"
  },
  "language_info": {
   "codemirror_mode": {
    "name": "ipython",
    "version": 3
   },
   "file_extension": ".py",
   "mimetype": "text/x-python",
   "name": "python",
   "nbconvert_exporter": "python",
   "pygments_lexer": "ipython3",
   "version": "3.9.7"
  }
 },
 "nbformat": 4,
 "nbformat_minor": 4
}
